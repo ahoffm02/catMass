{
 "cells": [
  {
   "cell_type": "code",
   "execution_count": 1,
   "id": "d6639d82",
   "metadata": {},
   "outputs": [],
   "source": [
    "import os\n",
    "os.chdir('..')\n",
    "os.chdir('./catmass')"
   ]
  },
  {
   "cell_type": "code",
   "execution_count": 2,
   "id": "84e69e27",
   "metadata": {},
   "outputs": [
    {
     "data": {
      "text/plain": [
       "'C:\\\\Users\\\\ashoff\\\\OneDrive - SLAC National Accelerator Laboratory\\\\Python Codes\\\\GitHub\\\\catMass\\\\catmass'"
      ]
     },
     "execution_count": 2,
     "metadata": {},
     "output_type": "execute_result"
    }
   ],
   "source": [
    "os.getcwd()"
   ]
  },
  {
   "cell_type": "code",
   "execution_count": null,
   "id": "cc7317f6",
   "metadata": {},
   "outputs": [],
   "source": [
    "%run catmass_gui.py"
   ]
  },
  {
   "cell_type": "code",
   "execution_count": null,
   "id": "0adc5b78",
   "metadata": {},
   "outputs": [],
   "source": []
  }
 ],
 "metadata": {
  "kernelspec": {
   "display_name": "Python 3",
   "language": "python",
   "name": "python3"
  },
  "language_info": {
   "codemirror_mode": {
    "name": "ipython",
    "version": 3
   },
   "file_extension": ".py",
   "mimetype": "text/x-python",
   "name": "python",
   "nbconvert_exporter": "python",
   "pygments_lexer": "ipython3",
   "version": "3.8.5"
  }
 },
 "nbformat": 4,
 "nbformat_minor": 5
}
