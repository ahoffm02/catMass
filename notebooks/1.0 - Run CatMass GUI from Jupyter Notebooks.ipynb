{
 "cells": [
  {
   "cell_type": "markdown",
   "id": "4c6c508f",
   "metadata": {},
   "source": [
    "# Script to run catMass from Jupyter Notebook"
   ]
  },
  {
   "cell_type": "code",
   "execution_count": 1,
   "id": "7cb88696",
   "metadata": {},
   "outputs": [],
   "source": [
    "import os\n",
    "os.chdir('..')\n",
    "os.chdir('./catmass')"
   ]
  },
  {
   "cell_type": "code",
   "execution_count": 2,
   "id": "dd8dffd4",
   "metadata": {},
   "outputs": [
    {
     "data": {
      "text/plain": [
       "'C:\\\\Users\\\\ashoff\\\\OneDrive - SLAC National Accelerator Laboratory\\\\Python Codes\\\\GitHub\\\\catMass\\\\catmass'"
      ]
     },
     "execution_count": 2,
     "metadata": {},
     "output_type": "execute_result"
    }
   ],
   "source": [
    "os.getcwd()"
   ]
  },
  {
   "cell_type": "code",
   "execution_count": null,
   "id": "d99ae518",
   "metadata": {},
   "outputs": [],
   "source": [
    "%run catmass_gui.py"
   ]
  },
  {
   "cell_type": "code",
   "execution_count": null,
   "id": "6b1d4f56",
   "metadata": {},
   "outputs": [],
   "source": []
  }
 ],
 "metadata": {
  "kernelspec": {
   "display_name": "Python 3",
   "language": "python",
   "name": "python3"
  },
  "language_info": {
   "codemirror_mode": {
    "name": "ipython",
    "version": 3
   },
   "file_extension": ".py",
   "mimetype": "text/x-python",
   "name": "python",
   "nbconvert_exporter": "python",
   "pygments_lexer": "ipython3",
   "version": "3.8.5"
  }
 },
 "nbformat": 4,
 "nbformat_minor": 5
}
